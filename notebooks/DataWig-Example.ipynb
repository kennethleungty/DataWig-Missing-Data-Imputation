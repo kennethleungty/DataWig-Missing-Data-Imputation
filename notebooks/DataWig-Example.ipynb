{
 "cells": [
  {
   "cell_type": "markdown",
   "id": "37f3f2a5",
   "metadata": {},
   "source": [
    "# DataWig Example Demo\n",
    "- Data source: https://archive.ics.uci.edu/ml/datasets/heart+disease\n",
    "___"
   ]
  },
  {
   "cell_type": "markdown",
   "id": "8df29433",
   "metadata": {},
   "source": [
    "## (1) Initial Setup"
   ]
  },
  {
   "cell_type": "code",
   "execution_count": 31,
   "id": "ebed756a",
   "metadata": {},
   "outputs": [],
   "source": [
    "# Import dependencies\n",
    "import numpy as np\n",
    "import pandas as pd\n",
    "from sklearn.metrics import f1_score, classification_report, matthews_corrcoef, mean_squared_error\n",
    "\n",
    "from datawig import SimpleImputer, Imputer\n",
    "from datawig.utils import random_split\n",
    "from datawig.column_encoders import *\n",
    "from datawig.mxnet_input_symbols import *"
   ]
  },
  {
   "cell_type": "code",
   "execution_count": 2,
   "id": "de75ac85",
   "metadata": {
    "scrolled": true
   },
   "outputs": [
    {
     "data": {
      "text/html": [
       "<div>\n",
       "<style scoped>\n",
       "    .dataframe tbody tr th:only-of-type {\n",
       "        vertical-align: middle;\n",
       "    }\n",
       "\n",
       "    .dataframe tbody tr th {\n",
       "        vertical-align: top;\n",
       "    }\n",
       "\n",
       "    .dataframe thead th {\n",
       "        text-align: right;\n",
       "    }\n",
       "</style>\n",
       "<table border=\"1\" class=\"dataframe\">\n",
       "  <thead>\n",
       "    <tr style=\"text-align: right;\">\n",
       "      <th></th>\n",
       "      <th>Age</th>\n",
       "      <th>Sex</th>\n",
       "      <th>ChestPain</th>\n",
       "      <th>RestBP</th>\n",
       "      <th>Chol</th>\n",
       "      <th>Fbs</th>\n",
       "      <th>RestECG</th>\n",
       "      <th>MaxHR</th>\n",
       "      <th>ExAng</th>\n",
       "      <th>Oldpeak</th>\n",
       "      <th>Slope</th>\n",
       "      <th>Ca</th>\n",
       "      <th>Thal</th>\n",
       "      <th>AHD</th>\n",
       "    </tr>\n",
       "  </thead>\n",
       "  <tbody>\n",
       "    <tr>\n",
       "      <th>0</th>\n",
       "      <td>63</td>\n",
       "      <td>1</td>\n",
       "      <td>typical</td>\n",
       "      <td>145</td>\n",
       "      <td>233</td>\n",
       "      <td>1</td>\n",
       "      <td>2</td>\n",
       "      <td>150</td>\n",
       "      <td>0</td>\n",
       "      <td>2.3</td>\n",
       "      <td>3</td>\n",
       "      <td>0.0</td>\n",
       "      <td>fixed</td>\n",
       "      <td>No</td>\n",
       "    </tr>\n",
       "    <tr>\n",
       "      <th>1</th>\n",
       "      <td>67</td>\n",
       "      <td>1</td>\n",
       "      <td>asymptomatic</td>\n",
       "      <td>160</td>\n",
       "      <td>286</td>\n",
       "      <td>0</td>\n",
       "      <td>2</td>\n",
       "      <td>108</td>\n",
       "      <td>1</td>\n",
       "      <td>1.5</td>\n",
       "      <td>2</td>\n",
       "      <td>3.0</td>\n",
       "      <td>normal</td>\n",
       "      <td>Yes</td>\n",
       "    </tr>\n",
       "    <tr>\n",
       "      <th>2</th>\n",
       "      <td>67</td>\n",
       "      <td>1</td>\n",
       "      <td>asymptomatic</td>\n",
       "      <td>120</td>\n",
       "      <td>229</td>\n",
       "      <td>0</td>\n",
       "      <td>2</td>\n",
       "      <td>129</td>\n",
       "      <td>1</td>\n",
       "      <td>2.6</td>\n",
       "      <td>2</td>\n",
       "      <td>2.0</td>\n",
       "      <td>reversable</td>\n",
       "      <td>Yes</td>\n",
       "    </tr>\n",
       "    <tr>\n",
       "      <th>3</th>\n",
       "      <td>37</td>\n",
       "      <td>1</td>\n",
       "      <td>nonanginal</td>\n",
       "      <td>130</td>\n",
       "      <td>250</td>\n",
       "      <td>0</td>\n",
       "      <td>0</td>\n",
       "      <td>187</td>\n",
       "      <td>0</td>\n",
       "      <td>3.5</td>\n",
       "      <td>3</td>\n",
       "      <td>0.0</td>\n",
       "      <td>normal</td>\n",
       "      <td>No</td>\n",
       "    </tr>\n",
       "    <tr>\n",
       "      <th>4</th>\n",
       "      <td>41</td>\n",
       "      <td>0</td>\n",
       "      <td>nontypical</td>\n",
       "      <td>130</td>\n",
       "      <td>204</td>\n",
       "      <td>0</td>\n",
       "      <td>2</td>\n",
       "      <td>172</td>\n",
       "      <td>0</td>\n",
       "      <td>1.4</td>\n",
       "      <td>1</td>\n",
       "      <td>0.0</td>\n",
       "      <td>normal</td>\n",
       "      <td>No</td>\n",
       "    </tr>\n",
       "  </tbody>\n",
       "</table>\n",
       "</div>"
      ],
      "text/plain": [
       "   Age  Sex     ChestPain  RestBP  Chol  Fbs  RestECG  MaxHR  ExAng  Oldpeak  \\\n",
       "0   63    1       typical     145   233    1        2    150      0      2.3   \n",
       "1   67    1  asymptomatic     160   286    0        2    108      1      1.5   \n",
       "2   67    1  asymptomatic     120   229    0        2    129      1      2.6   \n",
       "3   37    1    nonanginal     130   250    0        0    187      0      3.5   \n",
       "4   41    0    nontypical     130   204    0        2    172      0      1.4   \n",
       "\n",
       "   Slope   Ca        Thal  AHD  \n",
       "0      3  0.0       fixed   No  \n",
       "1      2  3.0      normal  Yes  \n",
       "2      2  2.0  reversable  Yes  \n",
       "3      3  0.0      normal   No  \n",
       "4      1  0.0      normal   No  "
      ]
     },
     "execution_count": 2,
     "metadata": {},
     "output_type": "execute_result"
    }
   ],
   "source": [
    "# Read input data\n",
    "df = pd.read_csv('../data/Heart.csv')\n",
    "df.head()"
   ]
  },
  {
   "cell_type": "markdown",
   "id": "4b5ad13d",
   "metadata": {},
   "source": [
    "#### Data Dictionary\n",
    "- Age: The person’s age in years  \n",
    "- Sex: The person’s sex (1 = male, 0 = female)  \n",
    "- ChestPain: chest pain type  \n",
    "    - Value 0: asymptomatic\n",
    "    - Value 1: atypical angina\n",
    "    - Value 2: non-anginal pain  \n",
    "    - Value 3: typical angina  \n",
    "- RestBP: The person’s resting blood pressure (mmHg on admission)  \n",
    "- Chol: The person’s cholesterol measurement in mg/dl  \n",
    "- Fbs: The person’s fasting blood sugar (> 120 mg/dl, 1 = true; 0 = false)  \n",
    "- RestECG: resting electrocardiographic results  \n",
    "    - Value 0: showing probable or definite left ventricular hypertrophy by Estes’ criteria  \n",
    "    - Value 1: normal  \n",
    "    - Value 2: having ST-T wave abnormality (T wave inversions and/or ST elevation or depression of > 0.05 mV)\n",
    "- MaxHR: The person’s maximum heart rate achieved\n",
    "- ExAng: Exercise induced angina (1 = yes; 0 = no)\n",
    "- OldPeak: ST depression induced by exercise relative to rest (‘ST’ relates to positions on the ECG plot)\n",
    "- Slope: the slope of the peak exercise ST segment \n",
    "    - 0: downsloping; \n",
    "    - 1: flat; \n",
    "    - 2: upsloping\n",
    "- Ca: The number of major vessels (0–3)\n",
    "- Thal: A blood disorder called thalassemia Value 0: NULL (dropped from the dataset previously\n",
    "    - Value 1: fixed defect (no blood flow in some part of the heart)\n",
    "    - Value 2: normal blood flow\n",
    "    - Value 3: reversible defect (a blood flow is observed but it is not normal)\n",
    "- AHD: Heart disease (1 = no, 0= yes) # Target variable"
   ]
  },
  {
   "cell_type": "code",
   "execution_count": 3,
   "id": "1a135447",
   "metadata": {
    "scrolled": true
   },
   "outputs": [
    {
     "data": {
      "text/plain": [
       "Age            int64\n",
       "Sex            int64\n",
       "ChestPain     object\n",
       "RestBP         int64\n",
       "Chol           int64\n",
       "Fbs            int64\n",
       "RestECG        int64\n",
       "MaxHR          int64\n",
       "ExAng          int64\n",
       "Oldpeak      float64\n",
       "Slope          int64\n",
       "Ca           float64\n",
       "Thal          object\n",
       "AHD           object\n",
       "dtype: object"
      ]
     },
     "execution_count": 3,
     "metadata": {},
     "output_type": "execute_result"
    }
   ],
   "source": [
    "df.dtypes"
   ]
  },
  {
   "cell_type": "code",
   "execution_count": 4,
   "id": "1dda5758",
   "metadata": {},
   "outputs": [
    {
     "data": {
      "text/plain": [
       "(303, 14)"
      ]
     },
     "execution_count": 4,
     "metadata": {},
     "output_type": "execute_result"
    }
   ],
   "source": [
    "df.shape"
   ]
  },
  {
   "cell_type": "markdown",
   "id": "4933566d",
   "metadata": {},
   "source": [
    "___\n",
    "## (2) Data Processing\n",
    "- Train test split and data masking (to simulate missing values)"
   ]
  },
  {
   "cell_type": "code",
   "execution_count": 5,
   "id": "9f0ba43c",
   "metadata": {
    "scrolled": true
   },
   "outputs": [
    {
     "data": {
      "text/plain": [
       "(242, 14)"
      ]
     },
     "execution_count": 5,
     "metadata": {},
     "output_type": "execute_result"
    }
   ],
   "source": [
    "# Perform train-test split (Default is 80/20 split)\n",
    "df_train, df_test = random_split(df, split_ratios=[0.8, 0.2])\n",
    "df_train.shape"
   ]
  },
  {
   "cell_type": "code",
   "execution_count": 6,
   "id": "d63f763d",
   "metadata": {},
   "outputs": [],
   "source": [
    "# Randomly hide a x% of cells in test dataframe\n",
    "hide_proportion = 0.25 # 25% hidden\n",
    "df_test_missing = df_test.mask(np.random.rand(*df_test.shape) > (1 - hide_proportion))"
   ]
  },
  {
   "cell_type": "code",
   "execution_count": 22,
   "id": "b244f620",
   "metadata": {
    "scrolled": false
   },
   "outputs": [
    {
     "data": {
      "text/html": [
       "<div>\n",
       "<style scoped>\n",
       "    .dataframe tbody tr th:only-of-type {\n",
       "        vertical-align: middle;\n",
       "    }\n",
       "\n",
       "    .dataframe tbody tr th {\n",
       "        vertical-align: top;\n",
       "    }\n",
       "\n",
       "    .dataframe thead th {\n",
       "        text-align: right;\n",
       "    }\n",
       "</style>\n",
       "<table border=\"1\" class=\"dataframe\">\n",
       "  <thead>\n",
       "    <tr style=\"text-align: right;\">\n",
       "      <th></th>\n",
       "      <th>Age</th>\n",
       "      <th>Sex</th>\n",
       "      <th>ChestPain</th>\n",
       "      <th>RestBP</th>\n",
       "      <th>Chol</th>\n",
       "      <th>Fbs</th>\n",
       "      <th>RestECG</th>\n",
       "      <th>MaxHR</th>\n",
       "      <th>ExAng</th>\n",
       "      <th>Oldpeak</th>\n",
       "      <th>Slope</th>\n",
       "      <th>Ca</th>\n",
       "      <th>Thal</th>\n",
       "      <th>AHD</th>\n",
       "    </tr>\n",
       "  </thead>\n",
       "  <tbody>\n",
       "    <tr>\n",
       "      <th>141</th>\n",
       "      <td>NaN</td>\n",
       "      <td>1.0</td>\n",
       "      <td>typical</td>\n",
       "      <td>170.0</td>\n",
       "      <td>NaN</td>\n",
       "      <td>NaN</td>\n",
       "      <td>NaN</td>\n",
       "      <td>159.0</td>\n",
       "      <td>0.0</td>\n",
       "      <td>0.2</td>\n",
       "      <td>2.0</td>\n",
       "      <td>NaN</td>\n",
       "      <td>NaN</td>\n",
       "      <td>NaN</td>\n",
       "    </tr>\n",
       "    <tr>\n",
       "      <th>125</th>\n",
       "      <td>45.0</td>\n",
       "      <td>0.0</td>\n",
       "      <td>nontypical</td>\n",
       "      <td>130.0</td>\n",
       "      <td>234.0</td>\n",
       "      <td>0.0</td>\n",
       "      <td>2.0</td>\n",
       "      <td>175.0</td>\n",
       "      <td>0.0</td>\n",
       "      <td>0.6</td>\n",
       "      <td>NaN</td>\n",
       "      <td>0.0</td>\n",
       "      <td>normal</td>\n",
       "      <td>No</td>\n",
       "    </tr>\n",
       "    <tr>\n",
       "      <th>108</th>\n",
       "      <td>NaN</td>\n",
       "      <td>NaN</td>\n",
       "      <td>asymptomatic</td>\n",
       "      <td>120.0</td>\n",
       "      <td>260.0</td>\n",
       "      <td>0.0</td>\n",
       "      <td>0.0</td>\n",
       "      <td>140.0</td>\n",
       "      <td>NaN</td>\n",
       "      <td>3.6</td>\n",
       "      <td>2.0</td>\n",
       "      <td>1.0</td>\n",
       "      <td>reversable</td>\n",
       "      <td>NaN</td>\n",
       "    </tr>\n",
       "    <tr>\n",
       "      <th>13</th>\n",
       "      <td>44.0</td>\n",
       "      <td>1.0</td>\n",
       "      <td>nontypical</td>\n",
       "      <td>NaN</td>\n",
       "      <td>263.0</td>\n",
       "      <td>NaN</td>\n",
       "      <td>0.0</td>\n",
       "      <td>173.0</td>\n",
       "      <td>NaN</td>\n",
       "      <td>0.0</td>\n",
       "      <td>1.0</td>\n",
       "      <td>0.0</td>\n",
       "      <td>NaN</td>\n",
       "      <td>No</td>\n",
       "    </tr>\n",
       "    <tr>\n",
       "      <th>140</th>\n",
       "      <td>59.0</td>\n",
       "      <td>1.0</td>\n",
       "      <td>NaN</td>\n",
       "      <td>140.0</td>\n",
       "      <td>221.0</td>\n",
       "      <td>0.0</td>\n",
       "      <td>0.0</td>\n",
       "      <td>164.0</td>\n",
       "      <td>1.0</td>\n",
       "      <td>NaN</td>\n",
       "      <td>1.0</td>\n",
       "      <td>0.0</td>\n",
       "      <td>NaN</td>\n",
       "      <td>NaN</td>\n",
       "    </tr>\n",
       "  </tbody>\n",
       "</table>\n",
       "</div>"
      ],
      "text/plain": [
       "      Age  Sex     ChestPain  RestBP   Chol  Fbs  RestECG  MaxHR  ExAng  \\\n",
       "141   NaN  1.0       typical   170.0    NaN  NaN      NaN  159.0    0.0   \n",
       "125  45.0  0.0    nontypical   130.0  234.0  0.0      2.0  175.0    0.0   \n",
       "108   NaN  NaN  asymptomatic   120.0  260.0  0.0      0.0  140.0    NaN   \n",
       "13   44.0  1.0    nontypical     NaN  263.0  NaN      0.0  173.0    NaN   \n",
       "140  59.0  1.0           NaN   140.0  221.0  0.0      0.0  164.0    1.0   \n",
       "\n",
       "     Oldpeak  Slope   Ca        Thal  AHD  \n",
       "141      0.2    2.0  NaN         NaN  NaN  \n",
       "125      0.6    NaN  0.0      normal   No  \n",
       "108      3.6    2.0  1.0  reversable  NaN  \n",
       "13       0.0    1.0  0.0         NaN   No  \n",
       "140      NaN    1.0  0.0         NaN  NaN  "
      ]
     },
     "execution_count": 22,
     "metadata": {},
     "output_type": "execute_result"
    }
   ],
   "source": [
    "df_test_missing.sample(5)"
   ]
  },
  {
   "cell_type": "markdown",
   "id": "aac361a0",
   "metadata": {},
   "source": [
    "___\n",
    "## (3) Simple Imputer with Hyperparameter Optimization (HPO)\n",
    "- Using SimpleImputer is the easiest way to deploy an imputation model on your dataset with DataWig. As the name suggests, the SimpleImputer is straightforward to call from a python script and uses default encoders and featurizers that usually yield good results on a variety of datasets.\n",
    "- Objectives: \n",
    "    - Numerical imputation: Predict missing values in `MaxHR` column\n",
    "    - Categorical imputation: Predict missing values in `ChestPain` column\n",
    "- DataWig also enables hyperparameter optimization to find the best model on a particular dataset."
   ]
  },
  {
   "cell_type": "markdown",
   "id": "32249ce6",
   "metadata": {},
   "source": [
    "### (i) Numerical Imputation"
   ]
  },
  {
   "cell_type": "code",
   "execution_count": 8,
   "id": "a0fcf90a",
   "metadata": {},
   "outputs": [],
   "source": [
    "# Define columns with useful info for to-be-imputed column\n",
    "input_cols = ['Age', 'Sex', 'RestBP', 'Chol', 'Fbs', 'ExAng', 'RestECG']\n",
    "\n",
    "# Define column to be imputed\n",
    "output_col_num = 'MaxHR' "
   ]
  },
  {
   "cell_type": "code",
   "execution_count": 9,
   "id": "99e4e304",
   "metadata": {},
   "outputs": [],
   "source": [
    "# Initialize SimpleImputer model for numerical imputation\n",
    "imputer_num = SimpleImputer(\n",
    "            input_columns=input_cols,\n",
    "            output_column=output_col_num,  # Column to be imputed\n",
    "            output_path='../artifacts/imputer_model_num'  # Store model data and metrics\n",
    "            )"
   ]
  },
  {
   "cell_type": "code",
   "execution_count": 10,
   "id": "2c04bc2f",
   "metadata": {
    "scrolled": true
   },
   "outputs": [
    {
     "name": "stderr",
     "output_type": "stream",
     "text": [
      "2022-08-21 22:47:26,658 [INFO]  \n",
      "========== start: fit model\n",
      "2022-08-21 22:47:26,660 [WARNING]  Already bound, ignoring bind()\n",
      "2022-08-21 22:47:26,675 [INFO]  Epoch[0] Batch [0-7]\tSpeed: 12442.05 samples/sec\tcross-entropy=16.275757\tMaxHR-accuracy=0.000000\n",
      "2022-08-21 22:47:26,682 [INFO]  Epoch[0] Train-cross-entropy=16.985389\n",
      "2022-08-21 22:47:26,683 [INFO]  Epoch[0] Train-MaxHR-accuracy=0.000000\n",
      "2022-08-21 22:47:26,683 [INFO]  Epoch[0] Time cost=0.020\n",
      "2022-08-21 22:47:26,688 [INFO]  Saved checkpoint to \"../artifacts/imputer_model_num0\\model-0000.params\"\n",
      "2022-08-21 22:47:26,691 [INFO]  Epoch[0] Validation-cross-entropy=10.823458\n",
      "2022-08-21 22:47:26,691 [INFO]  Epoch[0] Validation-MaxHR-accuracy=0.000000\n",
      "2022-08-21 22:47:26,700 [INFO]  Epoch[1] Batch [0-7]\tSpeed: 15998.98 samples/sec\tcross-entropy=13.016702\tMaxHR-accuracy=0.000000\n",
      "2022-08-21 22:47:26,707 [INFO]  Epoch[1] Train-cross-entropy=13.192817\n",
      "2022-08-21 22:47:26,707 [INFO]  Epoch[1] Train-MaxHR-accuracy=0.000000\n",
      "2022-08-21 22:47:26,708 [INFO]  Epoch[1] Time cost=0.016\n",
      "2022-08-21 22:47:26,712 [INFO]  Saved checkpoint to \"../artifacts/imputer_model_num0\\model-0001.params\"\n",
      "2022-08-21 22:47:26,715 [INFO]  Epoch[1] Validation-cross-entropy=9.611447\n",
      "2022-08-21 22:47:26,715 [INFO]  Epoch[1] Validation-MaxHR-accuracy=0.000000\n",
      "2022-08-21 22:47:26,727 [INFO]  Epoch[2] Batch [0-7]\tSpeed: 12181.99 samples/sec\tcross-entropy=12.565431\tMaxHR-accuracy=0.000000\n",
      "2022-08-21 22:47:26,734 [INFO]  Epoch[2] Train-cross-entropy=12.495719\n",
      "2022-08-21 22:47:26,735 [INFO]  Epoch[2] Train-MaxHR-accuracy=0.000000\n",
      "2022-08-21 22:47:26,735 [INFO]  Epoch[2] Time cost=0.020\n",
      "2022-08-21 22:47:26,740 [INFO]  Saved checkpoint to \"../artifacts/imputer_model_num0\\model-0002.params\"\n",
      "2022-08-21 22:47:26,743 [INFO]  Epoch[2] Validation-cross-entropy=9.254477\n",
      "2022-08-21 22:47:26,743 [INFO]  Epoch[2] Validation-MaxHR-accuracy=0.000000\n",
      "2022-08-21 22:47:26,752 [INFO]  Epoch[3] Batch [0-7]\tSpeed: 15994.62 samples/sec\tcross-entropy=12.274332\tMaxHR-accuracy=0.000000\n",
      "2022-08-21 22:47:26,760 [INFO]  Epoch[3] Train-cross-entropy=12.161025\n",
      "2022-08-21 22:47:26,760 [INFO]  Epoch[3] Train-MaxHR-accuracy=0.000000\n",
      "2022-08-21 22:47:26,760 [INFO]  Epoch[3] Time cost=0.017\n",
      "2022-08-21 22:47:26,765 [INFO]  Saved checkpoint to \"../artifacts/imputer_model_num0\\model-0003.params\"\n",
      "2022-08-21 22:47:26,766 [INFO]  Epoch[3] Validation-cross-entropy=9.345043\n",
      "2022-08-21 22:47:26,767 [INFO]  Epoch[3] Validation-MaxHR-accuracy=0.000000\n",
      "2022-08-21 22:47:26,781 [INFO]  Epoch[4] Batch [0-7]\tSpeed: 9334.94 samples/sec\tcross-entropy=12.116529\tMaxHR-accuracy=0.000000\n",
      "2022-08-21 22:47:26,788 [INFO]  Epoch[4] Train-cross-entropy=11.976214\n",
      "2022-08-21 22:47:26,789 [INFO]  Epoch[4] Train-MaxHR-accuracy=0.000000\n",
      "2022-08-21 22:47:26,789 [INFO]  Epoch[4] Time cost=0.022\n",
      "2022-08-21 22:47:26,795 [INFO]  Saved checkpoint to \"../artifacts/imputer_model_num0\\model-0004.params\"\n",
      "2022-08-21 22:47:26,797 [INFO]  Epoch[4] Validation-cross-entropy=9.496029\n",
      "2022-08-21 22:47:26,797 [INFO]  Epoch[4] Validation-MaxHR-accuracy=0.000000\n",
      "2022-08-21 22:47:26,843 [INFO]  Epoch[5] Batch [0-7]\tSpeed: 13775.61 samples/sec\tcross-entropy=12.060865\tMaxHR-accuracy=0.000000\n",
      "2022-08-21 22:47:26,850 [INFO]  Epoch[5] Train-cross-entropy=11.910075\n",
      "2022-08-21 22:47:26,850 [INFO]  Epoch[5] Train-MaxHR-accuracy=0.000000\n",
      "2022-08-21 22:47:26,851 [INFO]  Epoch[5] Time cost=0.053\n",
      "2022-08-21 22:47:26,856 [INFO]  Saved checkpoint to \"../artifacts/imputer_model_num0\\model-0005.params\"\n",
      "2022-08-21 22:47:26,858 [INFO]  Epoch[5] Validation-cross-entropy=9.568015\n",
      "2022-08-21 22:47:26,858 [INFO]  Epoch[5] Validation-MaxHR-accuracy=0.000000\n",
      "2022-08-21 22:47:26,867 [INFO]  Epoch[6] Batch [0-7]\tSpeed: 15319.16 samples/sec\tcross-entropy=12.026883\tMaxHR-accuracy=0.000000\n",
      "2022-08-21 22:47:26,874 [INFO]  Epoch[6] Train-cross-entropy=11.848214\n",
      "2022-08-21 22:47:26,875 [INFO]  Epoch[6] Train-MaxHR-accuracy=0.000000\n",
      "2022-08-21 22:47:26,875 [INFO]  Epoch[6] Time cost=0.016\n",
      "2022-08-21 22:47:26,880 [INFO]  Saved checkpoint to \"../artifacts/imputer_model_num0\\model-0006.params\"\n",
      "2022-08-21 22:47:26,881 [INFO]  Epoch[6] Validation-cross-entropy=9.584546\n",
      "2022-08-21 22:47:26,882 [INFO]  Epoch[6] Validation-MaxHR-accuracy=0.000000\n",
      "2022-08-21 22:47:26,892 [INFO]  Epoch[7] Batch [0-7]\tSpeed: 13998.09 samples/sec\tcross-entropy=12.024536\tMaxHR-accuracy=0.000000\n",
      "2022-08-21 22:47:26,898 [INFO]  Epoch[7] Train-cross-entropy=11.812695\n",
      "2022-08-21 22:47:26,899 [INFO]  Epoch[7] Train-MaxHR-accuracy=0.000000\n",
      "2022-08-21 22:47:26,899 [INFO]  Epoch[7] Time cost=0.017\n",
      "2022-08-21 22:47:26,904 [INFO]  Saved checkpoint to \"../artifacts/imputer_model_num0\\model-0007.params\"\n",
      "2022-08-21 22:47:26,906 [INFO]  No improvement detected for 5 epochs compared to 9.254477341969809 last error obtained: 9.576920986175537, stopping here\n",
      "2022-08-21 22:47:26,907 [INFO]  \n",
      "========== done (0.24900364875793457 s) fit model\n"
     ]
    },
    {
     "data": {
      "text/plain": [
       "<datawig.simple_imputer.SimpleImputer at 0x25fb6c41608>"
      ]
     },
     "execution_count": 10,
     "metadata": {},
     "output_type": "execute_result"
    }
   ],
   "source": [
    "# Fit and imputer model with default basic hyperparameter random grid\n",
    "imputer_num.fit_hpo(train_df=df_train)"
   ]
  },
  {
   "cell_type": "code",
   "execution_count": 11,
   "id": "b6f7e7cf",
   "metadata": {},
   "outputs": [
    {
     "data": {
      "text/html": [
       "<div>\n",
       "<style scoped>\n",
       "    .dataframe tbody tr th:only-of-type {\n",
       "        vertical-align: middle;\n",
       "    }\n",
       "\n",
       "    .dataframe tbody tr th {\n",
       "        vertical-align: top;\n",
       "    }\n",
       "\n",
       "    .dataframe thead th {\n",
       "        text-align: right;\n",
       "    }\n",
       "</style>\n",
       "<table border=\"1\" class=\"dataframe\">\n",
       "  <thead>\n",
       "    <tr style=\"text-align: right;\">\n",
       "      <th></th>\n",
       "      <th>Age</th>\n",
       "      <th>Sex</th>\n",
       "      <th>ChestPain</th>\n",
       "      <th>RestBP</th>\n",
       "      <th>Chol</th>\n",
       "      <th>Fbs</th>\n",
       "      <th>RestECG</th>\n",
       "      <th>MaxHR</th>\n",
       "      <th>ExAng</th>\n",
       "      <th>Oldpeak</th>\n",
       "      <th>Slope</th>\n",
       "      <th>Ca</th>\n",
       "      <th>Thal</th>\n",
       "      <th>AHD</th>\n",
       "      <th>MaxHR_imputed</th>\n",
       "    </tr>\n",
       "  </thead>\n",
       "  <tbody>\n",
       "    <tr>\n",
       "      <th>85</th>\n",
       "      <td>44.0</td>\n",
       "      <td>NaN</td>\n",
       "      <td>nonanginal</td>\n",
       "      <td>140.0</td>\n",
       "      <td>235.0</td>\n",
       "      <td>0.0</td>\n",
       "      <td>2.0</td>\n",
       "      <td>NaN</td>\n",
       "      <td>0.0</td>\n",
       "      <td>0.0</td>\n",
       "      <td>1.0</td>\n",
       "      <td>NaN</td>\n",
       "      <td>NaN</td>\n",
       "      <td>No</td>\n",
       "      <td>164.152612</td>\n",
       "    </tr>\n",
       "    <tr>\n",
       "      <th>134</th>\n",
       "      <td>43.0</td>\n",
       "      <td>0.0</td>\n",
       "      <td>nonanginal</td>\n",
       "      <td>122.0</td>\n",
       "      <td>213.0</td>\n",
       "      <td>0.0</td>\n",
       "      <td>0.0</td>\n",
       "      <td>165.0</td>\n",
       "      <td>0.0</td>\n",
       "      <td>0.2</td>\n",
       "      <td>2.0</td>\n",
       "      <td>NaN</td>\n",
       "      <td>normal</td>\n",
       "      <td>No</td>\n",
       "      <td>167.516661</td>\n",
       "    </tr>\n",
       "    <tr>\n",
       "      <th>143</th>\n",
       "      <td>64.0</td>\n",
       "      <td>1.0</td>\n",
       "      <td>nonanginal</td>\n",
       "      <td>125.0</td>\n",
       "      <td>309.0</td>\n",
       "      <td>NaN</td>\n",
       "      <td>NaN</td>\n",
       "      <td>NaN</td>\n",
       "      <td>1.0</td>\n",
       "      <td>1.8</td>\n",
       "      <td>2.0</td>\n",
       "      <td>0.0</td>\n",
       "      <td>reversable</td>\n",
       "      <td>Yes</td>\n",
       "      <td>128.506749</td>\n",
       "    </tr>\n",
       "    <tr>\n",
       "      <th>253</th>\n",
       "      <td>51.0</td>\n",
       "      <td>NaN</td>\n",
       "      <td>nonanginal</td>\n",
       "      <td>120.0</td>\n",
       "      <td>295.0</td>\n",
       "      <td>0.0</td>\n",
       "      <td>2.0</td>\n",
       "      <td>157.0</td>\n",
       "      <td>NaN</td>\n",
       "      <td>NaN</td>\n",
       "      <td>NaN</td>\n",
       "      <td>NaN</td>\n",
       "      <td>normal</td>\n",
       "      <td>NaN</td>\n",
       "      <td>152.829996</td>\n",
       "    </tr>\n",
       "    <tr>\n",
       "      <th>205</th>\n",
       "      <td>45.0</td>\n",
       "      <td>1.0</td>\n",
       "      <td>asymptomatic</td>\n",
       "      <td>142.0</td>\n",
       "      <td>309.0</td>\n",
       "      <td>0.0</td>\n",
       "      <td>NaN</td>\n",
       "      <td>147.0</td>\n",
       "      <td>1.0</td>\n",
       "      <td>0.0</td>\n",
       "      <td>2.0</td>\n",
       "      <td>NaN</td>\n",
       "      <td>reversable</td>\n",
       "      <td>NaN</td>\n",
       "      <td>144.024414</td>\n",
       "    </tr>\n",
       "  </tbody>\n",
       "</table>\n",
       "</div>"
      ],
      "text/plain": [
       "      Age  Sex     ChestPain  RestBP   Chol  Fbs  RestECG  MaxHR  ExAng  \\\n",
       "85   44.0  NaN    nonanginal   140.0  235.0  0.0      2.0    NaN    0.0   \n",
       "134  43.0  0.0    nonanginal   122.0  213.0  0.0      0.0  165.0    0.0   \n",
       "143  64.0  1.0    nonanginal   125.0  309.0  NaN      NaN    NaN    1.0   \n",
       "253  51.0  NaN    nonanginal   120.0  295.0  0.0      2.0  157.0    NaN   \n",
       "205  45.0  1.0  asymptomatic   142.0  309.0  0.0      NaN  147.0    1.0   \n",
       "\n",
       "     Oldpeak  Slope   Ca        Thal  AHD  MaxHR_imputed  \n",
       "85       0.0    1.0  NaN         NaN   No     164.152612  \n",
       "134      0.2    2.0  NaN      normal   No     167.516661  \n",
       "143      1.8    2.0  0.0  reversable  Yes     128.506749  \n",
       "253      NaN    NaN  NaN      normal  NaN     152.829996  \n",
       "205      0.0    2.0  NaN  reversable  NaN     144.024414  "
      ]
     },
     "execution_count": 11,
     "metadata": {},
     "output_type": "execute_result"
    }
   ],
   "source": [
    "# Impute missing values and return original dataframe with predictions\n",
    "predictions_num = imputer_num.predict(df_test_missing)\n",
    "predictions_num.head()"
   ]
  },
  {
   "cell_type": "code",
   "execution_count": 12,
   "id": "9226467a",
   "metadata": {
    "scrolled": true
   },
   "outputs": [
    {
     "data": {
      "text/html": [
       "<div>\n",
       "<style scoped>\n",
       "    .dataframe tbody tr th:only-of-type {\n",
       "        vertical-align: middle;\n",
       "    }\n",
       "\n",
       "    .dataframe tbody tr th {\n",
       "        vertical-align: top;\n",
       "    }\n",
       "\n",
       "    .dataframe thead th {\n",
       "        text-align: right;\n",
       "    }\n",
       "</style>\n",
       "<table border=\"1\" class=\"dataframe\">\n",
       "  <thead>\n",
       "    <tr style=\"text-align: right;\">\n",
       "      <th></th>\n",
       "      <th>MaxHR</th>\n",
       "      <th>MaxHR_imputed</th>\n",
       "    </tr>\n",
       "  </thead>\n",
       "  <tbody>\n",
       "    <tr>\n",
       "      <th>85</th>\n",
       "      <td>180</td>\n",
       "      <td>164.152612</td>\n",
       "    </tr>\n",
       "    <tr>\n",
       "      <th>134</th>\n",
       "      <td>165</td>\n",
       "      <td>167.516661</td>\n",
       "    </tr>\n",
       "    <tr>\n",
       "      <th>143</th>\n",
       "      <td>131</td>\n",
       "      <td>128.506749</td>\n",
       "    </tr>\n",
       "    <tr>\n",
       "      <th>253</th>\n",
       "      <td>157</td>\n",
       "      <td>152.829996</td>\n",
       "    </tr>\n",
       "    <tr>\n",
       "      <th>205</th>\n",
       "      <td>147</td>\n",
       "      <td>144.024414</td>\n",
       "    </tr>\n",
       "  </tbody>\n",
       "</table>\n",
       "</div>"
      ],
      "text/plain": [
       "     MaxHR  MaxHR_imputed\n",
       "85     180     164.152612\n",
       "134    165     167.516661\n",
       "143    131     128.506749\n",
       "253    157     152.829996\n",
       "205    147     144.024414"
      ]
     },
     "execution_count": 12,
     "metadata": {},
     "output_type": "execute_result"
    }
   ],
   "source": [
    "# Evaluate performance (compare actual and predicted) with MSE\n",
    "cols_num = pd.concat([df_test[[output_col_num]], \n",
    "                      predictions_num[[f'{output_col_num}_imputed']]], axis=1)\n",
    "cols_num.head()"
   ]
  },
  {
   "cell_type": "code",
   "execution_count": 13,
   "id": "5cf38c53",
   "metadata": {},
   "outputs": [
    {
     "data": {
      "text/plain": [
       "18.703566871101927"
      ]
     },
     "execution_count": 13,
     "metadata": {},
     "output_type": "execute_result"
    }
   ],
   "source": [
    "# Calculate RMSE (test set)\n",
    "rmse_datawig = np.sqrt(mean_squared_error(cols_num[output_col_num],\n",
    "                        cols_num[f'{output_col_num}_imputed']))\n",
    "rmse_datawig"
   ]
  },
  {
   "cell_type": "markdown",
   "id": "e5ece772",
   "metadata": {},
   "source": [
    "___\n",
    "### (ii) Categorical Imputation"
   ]
  },
  {
   "cell_type": "code",
   "execution_count": 14,
   "id": "5c0dfc72",
   "metadata": {},
   "outputs": [],
   "source": [
    "# Define column to be imputed\n",
    "output_col_cat = 'ChestPain' "
   ]
  },
  {
   "cell_type": "code",
   "execution_count": 15,
   "id": "ae8f1e1f",
   "metadata": {},
   "outputs": [],
   "source": [
    "# Initialize SimpleImputer model for categorical imputation\n",
    "imputer_cat = SimpleImputer(\n",
    "                input_columns=input_cols,\n",
    "                output_column=output_col_cat,  # Column to be imputed\n",
    "                output_path='../artifacts/imputer_model_cat'  # Store model data and metrics\n",
    "                )"
   ]
  },
  {
   "cell_type": "code",
   "execution_count": 16,
   "id": "e092c5c4",
   "metadata": {},
   "outputs": [
    {
     "name": "stderr",
     "output_type": "stream",
     "text": [
      "C:\\Users\\kenne\\.conda\\envs\\myenv\\lib\\site-packages\\sklearn\\metrics\\_classification.py:1318: UndefinedMetricWarning: Precision is ill-defined and being set to 0.0 in labels with no predicted samples. Use `zero_division` parameter to control this behavior.\n",
      "  _warn_prf(average, modifier, msg_start, len(result))\n",
      "C:\\Users\\kenne\\.conda\\envs\\myenv\\lib\\site-packages\\sklearn\\metrics\\_classification.py:1318: UndefinedMetricWarning: Precision is ill-defined and being set to 0.0 in labels with no predicted samples. Use `zero_division` parameter to control this behavior.\n",
      "  _warn_prf(average, modifier, msg_start, len(result))\n",
      "C:\\Users\\kenne\\.conda\\envs\\myenv\\lib\\site-packages\\sklearn\\metrics\\_classification.py:1318: UndefinedMetricWarning: Precision is ill-defined and being set to 0.0 in labels with no predicted samples. Use `zero_division` parameter to control this behavior.\n",
      "  _warn_prf(average, modifier, msg_start, len(result))\n"
     ]
    },
    {
     "data": {
      "text/plain": [
       "<datawig.simple_imputer.SimpleImputer at 0x25fb8d08748>"
      ]
     },
     "execution_count": 16,
     "metadata": {},
     "output_type": "execute_result"
    }
   ],
   "source": [
    "# Fit and imputer model with default basic hyperparameter (random search)\n",
    "imputer_cat.fit_hpo(train_df=df_train)"
   ]
  },
  {
   "cell_type": "code",
   "execution_count": 17,
   "id": "f9362b92",
   "metadata": {},
   "outputs": [
    {
     "data": {
      "text/html": [
       "<div>\n",
       "<style scoped>\n",
       "    .dataframe tbody tr th:only-of-type {\n",
       "        vertical-align: middle;\n",
       "    }\n",
       "\n",
       "    .dataframe tbody tr th {\n",
       "        vertical-align: top;\n",
       "    }\n",
       "\n",
       "    .dataframe thead th {\n",
       "        text-align: right;\n",
       "    }\n",
       "</style>\n",
       "<table border=\"1\" class=\"dataframe\">\n",
       "  <thead>\n",
       "    <tr style=\"text-align: right;\">\n",
       "      <th></th>\n",
       "      <th>Age</th>\n",
       "      <th>Sex</th>\n",
       "      <th>ChestPain</th>\n",
       "      <th>RestBP</th>\n",
       "      <th>Chol</th>\n",
       "      <th>Fbs</th>\n",
       "      <th>RestECG</th>\n",
       "      <th>MaxHR</th>\n",
       "      <th>ExAng</th>\n",
       "      <th>Oldpeak</th>\n",
       "      <th>Slope</th>\n",
       "      <th>Ca</th>\n",
       "      <th>Thal</th>\n",
       "      <th>AHD</th>\n",
       "      <th>ChestPain_imputed</th>\n",
       "      <th>ChestPain_imputed_proba</th>\n",
       "    </tr>\n",
       "  </thead>\n",
       "  <tbody>\n",
       "    <tr>\n",
       "      <th>85</th>\n",
       "      <td>44.0</td>\n",
       "      <td>NaN</td>\n",
       "      <td>nonanginal</td>\n",
       "      <td>140.0</td>\n",
       "      <td>235.0</td>\n",
       "      <td>0.0</td>\n",
       "      <td>2.0</td>\n",
       "      <td>NaN</td>\n",
       "      <td>0.0</td>\n",
       "      <td>0.0</td>\n",
       "      <td>1.0</td>\n",
       "      <td>NaN</td>\n",
       "      <td>NaN</td>\n",
       "      <td>No</td>\n",
       "      <td>nonanginal</td>\n",
       "      <td>0.322175</td>\n",
       "    </tr>\n",
       "    <tr>\n",
       "      <th>134</th>\n",
       "      <td>43.0</td>\n",
       "      <td>0.0</td>\n",
       "      <td>nonanginal</td>\n",
       "      <td>122.0</td>\n",
       "      <td>213.0</td>\n",
       "      <td>0.0</td>\n",
       "      <td>0.0</td>\n",
       "      <td>165.0</td>\n",
       "      <td>0.0</td>\n",
       "      <td>0.2</td>\n",
       "      <td>2.0</td>\n",
       "      <td>NaN</td>\n",
       "      <td>normal</td>\n",
       "      <td>No</td>\n",
       "      <td>nonanginal</td>\n",
       "      <td>0.451878</td>\n",
       "    </tr>\n",
       "    <tr>\n",
       "      <th>143</th>\n",
       "      <td>64.0</td>\n",
       "      <td>1.0</td>\n",
       "      <td>nonanginal</td>\n",
       "      <td>125.0</td>\n",
       "      <td>309.0</td>\n",
       "      <td>NaN</td>\n",
       "      <td>NaN</td>\n",
       "      <td>NaN</td>\n",
       "      <td>1.0</td>\n",
       "      <td>1.8</td>\n",
       "      <td>2.0</td>\n",
       "      <td>0.0</td>\n",
       "      <td>reversable</td>\n",
       "      <td>Yes</td>\n",
       "      <td>asymptomatic</td>\n",
       "      <td>0.753769</td>\n",
       "    </tr>\n",
       "    <tr>\n",
       "      <th>253</th>\n",
       "      <td>51.0</td>\n",
       "      <td>NaN</td>\n",
       "      <td>nonanginal</td>\n",
       "      <td>120.0</td>\n",
       "      <td>295.0</td>\n",
       "      <td>0.0</td>\n",
       "      <td>2.0</td>\n",
       "      <td>157.0</td>\n",
       "      <td>NaN</td>\n",
       "      <td>NaN</td>\n",
       "      <td>NaN</td>\n",
       "      <td>NaN</td>\n",
       "      <td>normal</td>\n",
       "      <td>NaN</td>\n",
       "      <td>asymptomatic</td>\n",
       "      <td>0.343994</td>\n",
       "    </tr>\n",
       "    <tr>\n",
       "      <th>205</th>\n",
       "      <td>45.0</td>\n",
       "      <td>1.0</td>\n",
       "      <td>asymptomatic</td>\n",
       "      <td>142.0</td>\n",
       "      <td>309.0</td>\n",
       "      <td>0.0</td>\n",
       "      <td>NaN</td>\n",
       "      <td>147.0</td>\n",
       "      <td>1.0</td>\n",
       "      <td>0.0</td>\n",
       "      <td>2.0</td>\n",
       "      <td>NaN</td>\n",
       "      <td>reversable</td>\n",
       "      <td>NaN</td>\n",
       "      <td>asymptomatic</td>\n",
       "      <td>0.698469</td>\n",
       "    </tr>\n",
       "  </tbody>\n",
       "</table>\n",
       "</div>"
      ],
      "text/plain": [
       "      Age  Sex     ChestPain  RestBP   Chol  Fbs  RestECG  MaxHR  ExAng  \\\n",
       "85   44.0  NaN    nonanginal   140.0  235.0  0.0      2.0    NaN    0.0   \n",
       "134  43.0  0.0    nonanginal   122.0  213.0  0.0      0.0  165.0    0.0   \n",
       "143  64.0  1.0    nonanginal   125.0  309.0  NaN      NaN    NaN    1.0   \n",
       "253  51.0  NaN    nonanginal   120.0  295.0  0.0      2.0  157.0    NaN   \n",
       "205  45.0  1.0  asymptomatic   142.0  309.0  0.0      NaN  147.0    1.0   \n",
       "\n",
       "     Oldpeak  Slope   Ca        Thal  AHD ChestPain_imputed  \\\n",
       "85       0.0    1.0  NaN         NaN   No        nonanginal   \n",
       "134      0.2    2.0  NaN      normal   No        nonanginal   \n",
       "143      1.8    2.0  0.0  reversable  Yes      asymptomatic   \n",
       "253      NaN    NaN  NaN      normal  NaN      asymptomatic   \n",
       "205      0.0    2.0  NaN  reversable  NaN      asymptomatic   \n",
       "\n",
       "     ChestPain_imputed_proba  \n",
       "85                  0.322175  \n",
       "134                 0.451878  \n",
       "143                 0.753769  \n",
       "253                 0.343994  \n",
       "205                 0.698469  "
      ]
     },
     "execution_count": 17,
     "metadata": {},
     "output_type": "execute_result"
    }
   ],
   "source": [
    "# Impute missing values and return original dataframe with predictions\n",
    "predictions_cat = imputer_cat.predict(df_test_missing)\n",
    "predictions_cat.head()"
   ]
  },
  {
   "cell_type": "code",
   "execution_count": 18,
   "id": "e83de2fc",
   "metadata": {},
   "outputs": [
    {
     "data": {
      "text/html": [
       "<div>\n",
       "<style scoped>\n",
       "    .dataframe tbody tr th:only-of-type {\n",
       "        vertical-align: middle;\n",
       "    }\n",
       "\n",
       "    .dataframe tbody tr th {\n",
       "        vertical-align: top;\n",
       "    }\n",
       "\n",
       "    .dataframe thead th {\n",
       "        text-align: right;\n",
       "    }\n",
       "</style>\n",
       "<table border=\"1\" class=\"dataframe\">\n",
       "  <thead>\n",
       "    <tr style=\"text-align: right;\">\n",
       "      <th></th>\n",
       "      <th>ChestPain</th>\n",
       "      <th>ChestPain_imputed</th>\n",
       "    </tr>\n",
       "  </thead>\n",
       "  <tbody>\n",
       "    <tr>\n",
       "      <th>85</th>\n",
       "      <td>nonanginal</td>\n",
       "      <td>nonanginal</td>\n",
       "    </tr>\n",
       "    <tr>\n",
       "      <th>134</th>\n",
       "      <td>nonanginal</td>\n",
       "      <td>nonanginal</td>\n",
       "    </tr>\n",
       "    <tr>\n",
       "      <th>143</th>\n",
       "      <td>nonanginal</td>\n",
       "      <td>asymptomatic</td>\n",
       "    </tr>\n",
       "    <tr>\n",
       "      <th>253</th>\n",
       "      <td>nonanginal</td>\n",
       "      <td>asymptomatic</td>\n",
       "    </tr>\n",
       "    <tr>\n",
       "      <th>205</th>\n",
       "      <td>asymptomatic</td>\n",
       "      <td>asymptomatic</td>\n",
       "    </tr>\n",
       "  </tbody>\n",
       "</table>\n",
       "</div>"
      ],
      "text/plain": [
       "        ChestPain ChestPain_imputed\n",
       "85     nonanginal        nonanginal\n",
       "134    nonanginal        nonanginal\n",
       "143    nonanginal      asymptomatic\n",
       "253    nonanginal      asymptomatic\n",
       "205  asymptomatic      asymptomatic"
      ]
     },
     "execution_count": 18,
     "metadata": {},
     "output_type": "execute_result"
    }
   ],
   "source": [
    "# Evaluate performance (compare actual and predicted) with MSE\n",
    "cols_cat = pd.concat([df_test[[output_col_cat]], \n",
    "                      predictions_cat[[f'{output_col_cat}_imputed']]], axis=1)\n",
    "cols_cat.head()"
   ]
  },
  {
   "cell_type": "code",
   "execution_count": 19,
   "id": "59449a18",
   "metadata": {},
   "outputs": [
    {
     "data": {
      "text/plain": [
       "0.3733552631578948"
      ]
     },
     "execution_count": 19,
     "metadata": {},
     "output_type": "execute_result"
    }
   ],
   "source": [
    "# Calculate F1 score (test set)\n",
    "f1_datawig = f1_score(cols_cat[output_col_cat],\n",
    "                     cols_cat[f'{output_col_cat}_imputed'],\n",
    "                     average='macro')\n",
    "f1_datawig"
   ]
  },
  {
   "cell_type": "code",
   "execution_count": 20,
   "id": "2d1cb577",
   "metadata": {},
   "outputs": [
    {
     "data": {
      "text/plain": [
       "0.2621317809974712"
      ]
     },
     "execution_count": 20,
     "metadata": {},
     "output_type": "execute_result"
    }
   ],
   "source": [
    "# Calculate MCC - classification metric (test set)\n",
    "mcc_datawig = matthews_corrcoef(cols_cat[output_col_cat],\n",
    "                                cols_cat[f'{output_col_cat}_imputed'])\n",
    "mcc_datawig"
   ]
  },
  {
   "cell_type": "markdown",
   "id": "78890866",
   "metadata": {},
   "source": [
    "___\n",
    "## (4) Imputer - Flexible Specifications\n",
    "Imputer is the backbone of the SimpleImputer and is responsible for running the preprocessing code, creating the model, executing training, and making predictions. Using the Imputer enables more flexibility with specifying model parameters, such as using particular encoders and featurizers rather than the default ones that SimpleImputer uses."
   ]
  },
  {
   "cell_type": "code",
   "execution_count": 23,
   "id": "3d11854a",
   "metadata": {},
   "outputs": [
    {
     "data": {
      "text/plain": [
       "['Age', 'Sex', 'RestBP', 'Chol', 'Fbs', 'ExAng', 'RestECG']"
      ]
     },
     "execution_count": 23,
     "metadata": {},
     "output_type": "execute_result"
    }
   ],
   "source": [
    "input_cols"
   ]
  },
  {
   "cell_type": "code",
   "execution_count": 46,
   "id": "c24b6ff2",
   "metadata": {},
   "outputs": [],
   "source": [
    "data_encoder_cols = [NumericalEncoder('Age'),\n",
    "                     CategoricalEncoder('Sex'),\n",
    "                     NumericalEncoder('RestBP'),\n",
    "                     NumericalEncoder('Chol'),\n",
    "                     CategoricalEncoder('Fbs'),\n",
    "                     CategoricalEncoder('ExAng'),\n",
    "                     CategoricalEncoder('RestECG')]\n",
    "\n",
    "# To-be-imputed column label\n",
    "label_encoder_cols = [NumericalEncoder('MaxHR')]\n",
    "\n",
    "data_featurizer_cols = [NumericalFeaturizer('Age'),\n",
    "                        EmbeddingFeaturizer('Sex'),\n",
    "                        NumericalFeaturizer('RestBP'),\n",
    "                        NumericalFeaturizer('Chol'),\n",
    "                        EmbeddingFeaturizer('Fbs'),\n",
    "                        EmbeddingFeaturizer('ExAng'),\n",
    "                        EmbeddingFeaturizer('RestECG')]\n",
    "\n",
    "imputer = Imputer(\n",
    "            data_featurizers = data_featurizer_cols,\n",
    "            data_encoders = data_encoder_cols,\n",
    "            label_encoders = label_encoder_cols,\n",
    "            output_path = 'imputer_model'\n",
    ")"
   ]
  },
  {
   "cell_type": "code",
   "execution_count": 47,
   "id": "8febc9f3",
   "metadata": {},
   "outputs": [
    {
     "data": {
      "text/plain": [
       "<datawig.imputer.Imputer at 0x25fb8f06888>"
      ]
     },
     "execution_count": 47,
     "metadata": {},
     "output_type": "execute_result"
    }
   ],
   "source": [
    "imputer.fit(train_df=df_train)"
   ]
  },
  {
   "cell_type": "code",
   "execution_count": 48,
   "id": "73647956",
   "metadata": {},
   "outputs": [],
   "source": [
    "predictions, metrics = imputer.transform_and_compute_metrics(df_test_missing)"
   ]
  },
  {
   "cell_type": "code",
   "execution_count": 50,
   "id": "be400aa9",
   "metadata": {},
   "outputs": [
    {
     "data": {
      "text/plain": [
       "{'MaxHR': 22386.304899628114}"
      ]
     },
     "execution_count": 50,
     "metadata": {},
     "output_type": "execute_result"
    }
   ],
   "source": [
    "metrics"
   ]
  },
  {
   "cell_type": "code",
   "execution_count": 49,
   "id": "d67eb9a8",
   "metadata": {
    "scrolled": true
   },
   "outputs": [
    {
     "data": {
      "text/plain": [
       "{'MaxHR': array([[165.52394531],\n",
       "        [163.16403826],\n",
       "        [134.42359848],\n",
       "        [149.1670025 ],\n",
       "        [157.30364576],\n",
       "        [143.33626401],\n",
       "        [148.90711075],\n",
       "        [153.07634522],\n",
       "        [147.56038902],\n",
       "        [143.89642766],\n",
       "        [145.49931581],\n",
       "        [156.6602911 ],\n",
       "        [157.45461505],\n",
       "        [150.09164103],\n",
       "        [167.22070499],\n",
       "        [148.73248139],\n",
       "        [147.29664533],\n",
       "        [141.55057221],\n",
       "        [156.34972041],\n",
       "        [155.61489691],\n",
       "        [145.93607281],\n",
       "        [139.41628029],\n",
       "        [146.5495422 ],\n",
       "        [148.68578137],\n",
       "        [139.20250272],\n",
       "        [146.87761836],\n",
       "        [152.17691458],\n",
       "        [147.57417206],\n",
       "        [157.08767442],\n",
       "        [147.79161175],\n",
       "        [142.49096727],\n",
       "        [163.86739371],\n",
       "        [162.87696398],\n",
       "        [133.03343982],\n",
       "        [139.29469731],\n",
       "        [151.46181197],\n",
       "        [141.38064594],\n",
       "        [153.86526207],\n",
       "        [147.42739151],\n",
       "        [159.51802533],\n",
       "        [156.07503555],\n",
       "        [153.17499089],\n",
       "        [154.72211561],\n",
       "        [139.35802655],\n",
       "        [153.13090385],\n",
       "        [150.13713319],\n",
       "        [138.55797351],\n",
       "        [147.44156423],\n",
       "        [141.46956638],\n",
       "        [164.99530641],\n",
       "        [153.44830567],\n",
       "        [143.00162785],\n",
       "        [142.65367308],\n",
       "        [143.15127483],\n",
       "        [145.21645208],\n",
       "        [146.94314841],\n",
       "        [151.89053874],\n",
       "        [146.83260712],\n",
       "        [143.17962062],\n",
       "        [163.71196747]])}"
      ]
     },
     "execution_count": 49,
     "metadata": {},
     "output_type": "execute_result"
    }
   ],
   "source": [
    "predictions"
   ]
  },
  {
   "cell_type": "code",
   "execution_count": 58,
   "id": "90928f89",
   "metadata": {
    "scrolled": true
   },
   "outputs": [
    {
     "data": {
      "text/plain": [
       "{'MaxHR': array([[165.52394531],\n",
       "        [163.16403826],\n",
       "        [134.42359848],\n",
       "        [149.1670025 ],\n",
       "        [157.30364576],\n",
       "        [143.33626401],\n",
       "        [148.90711075],\n",
       "        [153.07634522],\n",
       "        [147.56038902],\n",
       "        [143.89642766],\n",
       "        [145.49931581],\n",
       "        [156.6602911 ],\n",
       "        [157.45461505],\n",
       "        [150.09164103],\n",
       "        [167.22070499],\n",
       "        [148.73248139],\n",
       "        [147.29664533],\n",
       "        [141.55057221],\n",
       "        [156.34972041],\n",
       "        [155.61489691],\n",
       "        [145.93607281],\n",
       "        [139.41628029],\n",
       "        [146.5495422 ],\n",
       "        [148.68578137],\n",
       "        [139.20250272],\n",
       "        [146.87761836],\n",
       "        [152.17691458],\n",
       "        [147.57417206],\n",
       "        [157.08767442],\n",
       "        [147.79161175],\n",
       "        [142.49096727],\n",
       "        [163.86739371],\n",
       "        [162.87696398],\n",
       "        [133.03343982],\n",
       "        [139.29469731],\n",
       "        [151.46181197],\n",
       "        [141.38064594],\n",
       "        [153.86526207],\n",
       "        [147.42739151],\n",
       "        [159.51802533],\n",
       "        [156.07503555],\n",
       "        [153.17499089],\n",
       "        [154.72211561],\n",
       "        [139.35802655],\n",
       "        [153.13090385],\n",
       "        [150.13713319],\n",
       "        [138.55797351],\n",
       "        [147.44156423],\n",
       "        [141.46956638],\n",
       "        [164.99530641],\n",
       "        [153.44830567],\n",
       "        [143.00162785],\n",
       "        [142.65367308],\n",
       "        [143.15127483],\n",
       "        [145.21645208],\n",
       "        [146.94314841],\n",
       "        [151.89053874],\n",
       "        [146.83260712],\n",
       "        [143.17962062],\n",
       "        [163.71196747]])}"
      ]
     },
     "execution_count": 58,
     "metadata": {},
     "output_type": "execute_result"
    }
   ],
   "source": [
    "prob_dict_topk = imputer.predict_proba_top_k(df_test_missing, top_k=5)\n",
    "prob_dict_topk"
   ]
  }
 ],
 "metadata": {
  "kernelspec": {
   "display_name": "myenv",
   "language": "python",
   "name": "myenv"
  },
  "language_info": {
   "codemirror_mode": {
    "name": "ipython",
    "version": 3
   },
   "file_extension": ".py",
   "mimetype": "text/x-python",
   "name": "python",
   "nbconvert_exporter": "python",
   "pygments_lexer": "ipython3",
   "version": "3.7.13"
  }
 },
 "nbformat": 4,
 "nbformat_minor": 5
}
